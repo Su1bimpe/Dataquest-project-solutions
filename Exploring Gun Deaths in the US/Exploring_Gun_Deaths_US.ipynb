{
 "cells": [
  {
   "cell_type": "markdown",
   "metadata": {
    "collapsed": true
   },
   "source": [
    "# Exploring Gun Deaths in the US\n",
    "\n",
    "The dataset is from [FiveThirtyEight](https://fivethirtyeight.com/), and can be found [here](https://raw.githubusercontent.com/fivethirtyeight/guns-data/master/full_data.csv).\n",
    "It contains information on gun deaths in the US from 2012 to 2014. Each row in the dataset represents a single incident of death by gun shut. The columns contain demographic and other information about the victims.\n",
    "\n",
    "**year** -- the year in which the fatality occurred.\n",
    "\n",
    "**month**-- the month in which the fatality occurred.\n",
    "\n",
    "**intent** -- the intent of the perpetrator of the crime. This can be Suicide, Accidental, NA, Homicide, or Undetermined.\n",
    "\n",
    "**police** -- whether a police officer was involved with the shooting. Either 0 (false) or 1 (true).\n",
    "\n",
    "**sex** -- the gender of the victim. Either M or F.\n",
    "\n",
    "**age** -- the age of the victim.\n",
    "\n",
    "**race** -- the race of the victim. Either Asian/Pacific Islander, Native American/Native Alaskan, Black, Hispanic, or White.\n",
    "\n",
    "**hispanic** -- a code indicating the Hispanic origin of the victim.\n",
    "place -- where the shooting occurred. Has several categories, which you're encouraged to explore on your own.\n",
    "\n",
    "**education** -- educational status of the victim. Can be one of the following:\n",
    "\n",
    "1. Less than High School\n",
    "2. Graduated from High School or equivalent\n",
    "3. Some College\n",
    "4. At least graduated from College\n",
    "5. Not available\n",
    "\n",
    "### In this project, I'll explore the dataset, to find the total number of gun deaths by gender and race in the us. The US censor data will also be use to determine the rate gun deaths per 100000 people for each race.\n",
    "\n"
   ]
  },
  {
   "cell_type": "markdown",
   "metadata": {},
   "source": [
    "# Read CSV "
   ]
  },
  {
   "cell_type": "code",
   "execution_count": 8,
   "metadata": {},
   "outputs": [],
   "source": [
    "import csv\n",
    "\n",
    "f = open('guns.csv')\n",
    "read = csv.reader(f)\n",
    "\n",
    "#converts file into a list of lists\n",
    "data = list(read)"
   ]
  },
  {
   "cell_type": "code",
   "execution_count": 9,
   "metadata": {},
   "outputs": [
    {
     "data": {
      "text/plain": [
       "[['',\n",
       "  'year',\n",
       "  'month',\n",
       "  'intent',\n",
       "  'police',\n",
       "  'sex',\n",
       "  'age',\n",
       "  'race',\n",
       "  'hispanic',\n",
       "  'place',\n",
       "  'education'],\n",
       " ['1',\n",
       "  '2012',\n",
       "  '01',\n",
       "  'Suicide',\n",
       "  '0',\n",
       "  'M',\n",
       "  '34',\n",
       "  'Asian/Pacific Islander',\n",
       "  '100',\n",
       "  'Home',\n",
       "  'BA+'],\n",
       " ['2',\n",
       "  '2012',\n",
       "  '01',\n",
       "  'Suicide',\n",
       "  '0',\n",
       "  'F',\n",
       "  '21',\n",
       "  'White',\n",
       "  '100',\n",
       "  'Street',\n",
       "  'Some college'],\n",
       " ['3',\n",
       "  '2012',\n",
       "  '01',\n",
       "  'Suicide',\n",
       "  '0',\n",
       "  'M',\n",
       "  '60',\n",
       "  'White',\n",
       "  '100',\n",
       "  'Other specified',\n",
       "  'BA+'],\n",
       " ['4', '2012', '02', 'Suicide', '0', 'M', '64', 'White', '100', 'Home', 'BA+']]"
      ]
     },
     "execution_count": 9,
     "metadata": {},
     "output_type": "execute_result"
    }
   ],
   "source": [
    "#view first 5 rows of the data\n",
    "data[:5]"
   ]
  },
  {
   "cell_type": "markdown",
   "metadata": {},
   "source": [
    "# Remove header\n",
    "\n",
    "To begin analyzing the data,it needs to be transformed into a more readable format."
   ]
  },
  {
   "cell_type": "code",
   "execution_count": 11,
   "metadata": {},
   "outputs": [
    {
     "name": "stdout",
     "output_type": "stream",
     "text": [
      "[['2', '2012', '01', 'Suicide', '0', 'F', '21', 'White', '100', 'Street', 'Some college'], ['3', '2012', '01', 'Suicide', '0', 'M', '60', 'White', '100', 'Other specified', 'BA+'], ['4', '2012', '02', 'Suicide', '0', 'M', '64', 'White', '100', 'Home', 'BA+'], ['5', '2012', '02', 'Suicide', '0', 'M', '31', 'White', '100', 'Other specified', 'HS/GED'], ['6', '2012', '02', 'Suicide', '0', 'M', '17', 'Native American/Native Alaskan', '100', 'Home', 'Less than HS']]\n"
     ]
    }
   ],
   "source": [
    "headers = data[0]\n",
    "\n",
    "data = data[1:]\n",
    "\n",
    "print(data[:5])"
   ]
  },
  {
   "cell_type": "markdown",
   "metadata": {},
   "source": [
    "# Total number of Gun deaths per year\n"
   ]
  },
  {
   "cell_type": "code",
   "execution_count": 4,
   "metadata": {},
   "outputs": [
    {
     "name": "stdout",
     "output_type": "stream",
     "text": [
      "{'2012': 33563, '2014': 33599, '2013': 33636}\n"
     ]
    }
   ],
   "source": [
    "#Extract the 'year' column from the data\n",
    "years = [i[1] for i in data]\n",
    "\n",
    "#Store uniques year in the data as keys and the total number of gun deaths as values\n",
    "year_counts = {} #empty dictionary\n",
    "for year in years:\n",
    "    if year in year_counts:\n",
    "        year_counts[year] += 1\n",
    "    else:\n",
    "        year_counts[year] = 1\n",
    "print(year_counts)\n",
    "\n"
   ]
  },
  {
   "cell_type": "markdown",
   "metadata": {},
   "source": [
    "The total number of gun deaths from 2012 to 2014 are close to each other.\n",
    "\n"
   ]
  },
  {
   "cell_type": "markdown",
   "metadata": {},
   "source": [
    "# Total number of Gun deaths per month\n",
    "\n",
    "Explore further by calculating the total number of gun deaths for each month in each year.\n",
    "\n",
    "\n"
   ]
  },
  {
   "cell_type": "code",
   "execution_count": 5,
   "metadata": {},
   "outputs": [
    {
     "data": {
      "text/plain": [
       "{datetime.datetime(2012, 1, 1, 0, 0): 2758,\n",
       " datetime.datetime(2012, 2, 1, 0, 0): 2357,\n",
       " datetime.datetime(2012, 3, 1, 0, 0): 2743,\n",
       " datetime.datetime(2012, 4, 1, 0, 0): 2795,\n",
       " datetime.datetime(2012, 5, 1, 0, 0): 2999,\n",
       " datetime.datetime(2012, 6, 1, 0, 0): 2826,\n",
       " datetime.datetime(2012, 7, 1, 0, 0): 3026,\n",
       " datetime.datetime(2012, 8, 1, 0, 0): 2954,\n",
       " datetime.datetime(2012, 9, 1, 0, 0): 2852,\n",
       " datetime.datetime(2012, 10, 1, 0, 0): 2733,\n",
       " datetime.datetime(2012, 11, 1, 0, 0): 2729,\n",
       " datetime.datetime(2012, 12, 1, 0, 0): 2791,\n",
       " datetime.datetime(2013, 1, 1, 0, 0): 2864,\n",
       " datetime.datetime(2013, 2, 1, 0, 0): 2375,\n",
       " datetime.datetime(2013, 3, 1, 0, 0): 2862,\n",
       " datetime.datetime(2013, 4, 1, 0, 0): 2798,\n",
       " datetime.datetime(2013, 5, 1, 0, 0): 2806,\n",
       " datetime.datetime(2013, 6, 1, 0, 0): 2920,\n",
       " datetime.datetime(2013, 7, 1, 0, 0): 3079,\n",
       " datetime.datetime(2013, 8, 1, 0, 0): 2859,\n",
       " datetime.datetime(2013, 9, 1, 0, 0): 2742,\n",
       " datetime.datetime(2013, 10, 1, 0, 0): 2808,\n",
       " datetime.datetime(2013, 11, 1, 0, 0): 2758,\n",
       " datetime.datetime(2013, 12, 1, 0, 0): 2765,\n",
       " datetime.datetime(2014, 1, 1, 0, 0): 2651,\n",
       " datetime.datetime(2014, 2, 1, 0, 0): 2361,\n",
       " datetime.datetime(2014, 3, 1, 0, 0): 2684,\n",
       " datetime.datetime(2014, 4, 1, 0, 0): 2862,\n",
       " datetime.datetime(2014, 5, 1, 0, 0): 2864,\n",
       " datetime.datetime(2014, 6, 1, 0, 0): 2931,\n",
       " datetime.datetime(2014, 7, 1, 0, 0): 2884,\n",
       " datetime.datetime(2014, 8, 1, 0, 0): 2970,\n",
       " datetime.datetime(2014, 9, 1, 0, 0): 2914,\n",
       " datetime.datetime(2014, 10, 1, 0, 0): 2865,\n",
       " datetime.datetime(2014, 11, 1, 0, 0): 2756,\n",
       " datetime.datetime(2014, 12, 1, 0, 0): 2857}"
      ]
     },
     "execution_count": 5,
     "metadata": {},
     "output_type": "execute_result"
    }
   ],
   "source": [
    "import datetime\n",
    "\n",
    "dates = [datetime.datetime(year=int(i[1]), month=int(i[2]),day=1) for i in data] \n",
    "dates[:5]\n",
    "\n",
    "date_count = {}\n",
    "\n",
    "for date in dates:\n",
    "    if date in date_count:\n",
    "        date_count[date] += 1\n",
    "    else:\n",
    "        date_count[date] = 1\n",
    "        \n",
    "date_count"
   ]
  },
  {
   "cell_type": "markdown",
   "metadata": {},
   "source": [
    "Seems like there is a trend in the total number of gun death,it shows increase in gun deaths in warmer months which peaks in July and declines in winter"
   ]
  },
  {
   "cell_type": "markdown",
   "metadata": {
    "collapsed": true
   },
   "source": [
    "#Ananlyze gender, sex and race's relationship with gun death in the US"
   ]
  },
  {
   "cell_type": "code",
   "execution_count": 14,
   "metadata": {},
   "outputs": [
    {
     "data": {
      "text/plain": [
       "{'F': 14449, 'M': 86348}"
      ]
     },
     "execution_count": 14,
     "metadata": {},
     "output_type": "execute_result"
    }
   ],
   "source": [
    "gender_counts = {}\n",
    "\n",
    "genders = [i[5] for i in data]\n",
    "for gender in genders:\n",
    "    if gender in gender_counts:\n",
    "        gender_counts[gender] += 1\n",
    "    else:\n",
    "        gender_counts[gender] = 1\n",
    "            \n",
    "gender_counts "
   ]
  },
  {
   "cell_type": "code",
   "execution_count": 15,
   "metadata": {},
   "outputs": [
    {
     "data": {
      "text/plain": [
       "{'Asian/Pacific Islander': 1325,\n",
       " 'Black': 23296,\n",
       " 'Hispanic': 9022,\n",
       " 'Native American/Native Alaskan': 917,\n",
       " 'White': 66237}"
      ]
     },
     "execution_count": 15,
     "metadata": {},
     "output_type": "execute_result"
    }
   ],
   "source": [
    "race_counts = {}\n",
    "\n",
    "races = [i[7] for i in data]\n",
    "for race in races:\n",
    "    if race in race_counts:\n",
    "        race_counts[race] += 1\n",
    "    else:\n",
    "        race_counts[race] = 1\n",
    "            \n",
    "race_counts "
   ]
  },
  {
   "cell_type": "markdown",
   "metadata": {},
   "source": [
    "## Findings so far\n",
    "\n",
    "Gun deaths in the US disproportionately affect men vs women. According to the data 85%   of gun deaths are male. It also seems to disproportionately affect races. Majority of the dead people are either black or white.\n",
    "\n",
    "It would be helpful to have  some data on the percentage of each race in the US overall populations.\n",
    "\n",
    "There also seem to be a seasonal trend. Gun deaths rises in the warmer months (May - September), it peaks in the summer and decline in the winter.\n",
    "\n"
   ]
  },
  {
   "cell_type": "markdown",
   "metadata": {},
   "source": [
    "# Comparing US Gun Deaths by Race Using the US Census Data\n",
    "\n",
    "\n",
    "The total number of deaths per race was explored above. To meaningfully compare the numbers, we need to compute the rate of gun deaths per **100000** people of each race.\n",
    "\n",
    "Import data that contains information on the total population of US, as well as the total population of each racial group.\n"
   ]
  },
  {
   "cell_type": "code",
   "execution_count": 18,
   "metadata": {},
   "outputs": [
    {
     "data": {
      "text/plain": [
       "[['Id',\n",
       "  'Year',\n",
       "  'Id',\n",
       "  'Sex',\n",
       "  'Id',\n",
       "  'Hispanic Origin',\n",
       "  'Id',\n",
       "  'Id2',\n",
       "  'Geography',\n",
       "  'Total',\n",
       "  'Race Alone - White',\n",
       "  'Race Alone - Hispanic',\n",
       "  'Race Alone - Black or African American',\n",
       "  'Race Alone - American Indian and Alaska Native',\n",
       "  'Race Alone - Asian',\n",
       "  'Race Alone - Native Hawaiian and Other Pacific Islander',\n",
       "  'Two or More Races'],\n",
       " ['cen42010',\n",
       "  'April 1, 2010 Census',\n",
       "  'totsex',\n",
       "  'Both Sexes',\n",
       "  'tothisp',\n",
       "  'Total',\n",
       "  '0100000US',\n",
       "  '',\n",
       "  'United States',\n",
       "  '308745538',\n",
       "  '197318956',\n",
       "  '44618105',\n",
       "  '40250635',\n",
       "  '3739506',\n",
       "  '15159516',\n",
       "  '674625',\n",
       "  '6984195']]"
      ]
     },
     "execution_count": 18,
     "metadata": {},
     "output_type": "execute_result"
    }
   ],
   "source": [
    "d = csv.reader(open('census.csv'))\n",
    "census = list(d)\n",
    "census"
   ]
  },
  {
   "cell_type": "markdown",
   "metadata": {},
   "source": [
    "In order to get from the raw counts of gun deaths by race to a rate of gun deaths per **100000** people in each race, we'll need to divide the total number of gun deaths by the population of each race. "
   ]
  },
  {
   "cell_type": "code",
   "execution_count": 19,
   "metadata": {},
   "outputs": [
    {
     "data": {
      "text/plain": [
       "{'Asian/Pacific Islander': 8.36799419684339,\n",
       " 'Black': 57.8773477735196,\n",
       " 'Hispanic': 20.220491210910907,\n",
       " 'Native American/Native Alaskan': 24.521955573811088,\n",
       " 'White': 33.56849303419181}"
      ]
     },
     "execution_count": 19,
     "metadata": {},
     "output_type": "execute_result"
    }
   ],
   "source": [
    "#manual dictionary to combine race population total\n",
    "\n",
    "mapping = {'Asian/Pacific Islander':15159516 + 674625,\n",
    "           'Black': 40250635,\n",
    "           'Hispanic' :44618105,\n",
    "           'Native American/Native Alaskan': 3739506,\n",
    "           'White': 197318956\n",
    "}\n",
    "\n",
    "race_per_hundredk = {}\n",
    "for k,v in race_counts.items():\n",
    "    race_per_hundredk[k] = (v / mapping[k])*100000\n",
    "race_per_hundredk    "
   ]
  },
  {
   "cell_type": "markdown",
   "metadata": {},
   "source": [
    "Blacks have the highest rate of gun deaths in the US"
   ]
  },
  {
   "cell_type": "markdown",
   "metadata": {},
   "source": [
    "# Homicide Rate by Gun\n"
   ]
  },
  {
   "cell_type": "code",
   "execution_count": 15,
   "metadata": {},
   "outputs": [
    {
     "data": {
      "text/plain": [
       "{'Asian/Pacific Islander': 3.530346230970155,\n",
       " 'Black': 48.471284987180944,\n",
       " 'Hispanic': 12.627161104219914,\n",
       " 'Native American/Native Alaskan': 8.717729026240365,\n",
       " 'White': 4.6356417981453335}"
      ]
     },
     "execution_count": 15,
     "metadata": {},
     "output_type": "execute_result"
    }
   ],
   "source": [
    "intents = [i[3] for i in data]\n",
    "races = [i[7] for i in data]\n",
    "\n",
    "homicide_race_counts = {}\n",
    "\n",
    "for i,v in enumerate(races):\n",
    "    if intents[i] == 'Homicide':\n",
    "        if v in homicide_race_counts:\n",
    "            homicide_race_counts[v] += 1\n",
    "        else:\n",
    "            homicide_race_counts[v] = 1\n",
    "            \n",
    "homicide_race_counts    \n",
    "\n",
    "race_per_hundredk_homicides ={}\n",
    "for k,v in homicide_race_counts.items():\n",
    "    race_per_hundredk_homicides[k] = (v / mapping[k]) * 100000\n",
    "    \n",
    "race_per_hundredk_homicides    "
   ]
  },
  {
   "cell_type": "markdown",
   "metadata": {},
   "source": [
    "It appears that gun related homicides disproportionately affect people of black and hispanic races.\n",
    "\n",
    "Some areas to explore further:\n",
    "\n",
    "The link between month and homicide rate.\n",
    "Homicide rate by gender.\n",
    "The rates of other intents by gender and race.\n",
    "Gun death rates by location and education.\n"
   ]
  },
  {
   "cell_type": "markdown",
   "metadata": {
    "collapsed": true
   },
   "source": [
    "# Create count_category() Function\n",
    "\n",
    "Since I am repeating the same operations, I will create a function that takes in the column index as the parameter and  calculate the  total number of gun deaths for it."
   ]
  },
  {
   "cell_type": "code",
   "execution_count": 23,
   "metadata": {},
   "outputs": [],
   "source": [
    "def count_category(column):\n",
    "    \n",
    "    col_list = [i[column] for i in data]\n",
    "    return_dict = {}\n",
    "    \n",
    "    for v in col_list:\n",
    "        if v in return_dict:\n",
    "            return_dict[v] += 1\n",
    "        else:\n",
    "            return_dict[v] = 1\n",
    "            \n",
    "    return return_dict         \n",
    "            "
   ]
  },
  {
   "cell_type": "code",
   "execution_count": 24,
   "metadata": {},
   "outputs": [
    {
     "data": {
      "text/plain": [
       "{'Accidental': 1639,\n",
       " 'Homicide': 35176,\n",
       " 'NA': 1,\n",
       " 'Suicide': 63174,\n",
       " 'Undetermined': 807}"
      ]
     },
     "execution_count": 24,
     "metadata": {},
     "output_type": "execute_result"
    }
   ],
   "source": [
    "gun_death_by_intent = count_category(3)\n",
    "gun_death_by_intent"
   ]
  },
  {
   "cell_type": "code",
   "execution_count": 26,
   "metadata": {
    "scrolled": true
   },
   "outputs": [
    {
     "data": {
      "text/plain": [
       "{'0': 33,\n",
       " '1': 38,\n",
       " '10': 53,\n",
       " '100': 1,\n",
       " '101': 2,\n",
       " '102': 2,\n",
       " '107': 1,\n",
       " '11': 61,\n",
       " '12': 117,\n",
       " '13': 229,\n",
       " '14': 364,\n",
       " '15': 561,\n",
       " '16': 864,\n",
       " '17': 1185,\n",
       " '18': 1753,\n",
       " '19': 2065,\n",
       " '2': 50,\n",
       " '20': 2219,\n",
       " '21': 2504,\n",
       " '22': 2712,\n",
       " '23': 2472,\n",
       " '24': 2437,\n",
       " '25': 2230,\n",
       " '26': 2231,\n",
       " '27': 2070,\n",
       " '28': 1986,\n",
       " '29': 1955,\n",
       " '3': 66,\n",
       " '30': 1869,\n",
       " '31': 1833,\n",
       " '32': 1824,\n",
       " '33': 1700,\n",
       " '34': 1698,\n",
       " '35': 1631,\n",
       " '36': 1512,\n",
       " '37': 1500,\n",
       " '38': 1491,\n",
       " '39': 1389,\n",
       " '4': 54,\n",
       " '40': 1414,\n",
       " '41': 1485,\n",
       " '42': 1492,\n",
       " '43': 1527,\n",
       " '44': 1449,\n",
       " '45': 1372,\n",
       " '46': 1437,\n",
       " '47': 1532,\n",
       " '48': 1621,\n",
       " '49': 1669,\n",
       " '5': 43,\n",
       " '50': 1674,\n",
       " '51': 1755,\n",
       " '52': 1715,\n",
       " '53': 1708,\n",
       " '54': 1684,\n",
       " '55': 1596,\n",
       " '56': 1625,\n",
       " '57': 1472,\n",
       " '58': 1510,\n",
       " '59': 1430,\n",
       " '6': 50,\n",
       " '60': 1361,\n",
       " '61': 1306,\n",
       " '62': 1099,\n",
       " '63': 1041,\n",
       " '64': 1126,\n",
       " '65': 1039,\n",
       " '66': 998,\n",
       " '67': 865,\n",
       " '68': 868,\n",
       " '69': 879,\n",
       " '7': 43,\n",
       " '70': 883,\n",
       " '71': 791,\n",
       " '72': 736,\n",
       " '73': 737,\n",
       " '74': 671,\n",
       " '75': 676,\n",
       " '76': 582,\n",
       " '77': 575,\n",
       " '78': 598,\n",
       " '79': 573,\n",
       " '8': 32,\n",
       " '80': 546,\n",
       " '81': 563,\n",
       " '82': 520,\n",
       " '83': 552,\n",
       " '84': 490,\n",
       " '85': 440,\n",
       " '86': 407,\n",
       " '87': 312,\n",
       " '88': 340,\n",
       " '89': 245,\n",
       " '9': 47,\n",
       " '90': 208,\n",
       " '91': 176,\n",
       " '92': 128,\n",
       " '93': 103,\n",
       " '94': 64,\n",
       " '95': 55,\n",
       " '96': 40,\n",
       " '97': 20,\n",
       " '98': 16,\n",
       " '99': 6,\n",
       " 'NA': 18}"
      ]
     },
     "execution_count": 26,
     "metadata": {},
     "output_type": "execute_result"
    }
   ],
   "source": [
    "gun_death_by_age = count_category(6)\n",
    "gun_death_by_age "
   ]
  },
  {
   "cell_type": "code",
   "execution_count": 28,
   "metadata": {},
   "outputs": [
    {
     "data": {
      "text/plain": [
       "{'0': 99395, '1': 1402}"
      ]
     },
     "execution_count": 28,
     "metadata": {},
     "output_type": "execute_result"
    }
   ],
   "source": [
    "gun_death_by_police = count_category(4)\n",
    "gun_death_by_police"
   ]
  },
  {
   "cell_type": "code",
   "execution_count": 29,
   "metadata": {},
   "outputs": [
    {
     "data": {
      "text/plain": [
       "{'BA+': 12945,\n",
       " 'HS/GED': 42927,\n",
       " 'Less than HS': 21823,\n",
       " 'NA': 1422,\n",
       " 'Some college': 21680}"
      ]
     },
     "execution_count": 29,
     "metadata": {},
     "output_type": "execute_result"
    }
   ],
   "source": [
    "gun_death_by_education = count_category(10)\n",
    "gun_death_by_education"
   ]
  },
  {
   "cell_type": "code",
   "execution_count": 30,
   "metadata": {},
   "outputs": [
    {
     "data": {
      "text/plain": [
       "{'Farm': 470,\n",
       " 'Home': 60485,\n",
       " 'Industrial/construction': 248,\n",
       " 'NA': 1384,\n",
       " 'Other specified': 13751,\n",
       " 'Other unspecified': 8867,\n",
       " 'Residential institution': 203,\n",
       " 'School/instiution': 671,\n",
       " 'Sports': 128,\n",
       " 'Street': 11151,\n",
       " 'Trade/service area': 3439}"
      ]
     },
     "execution_count": 30,
     "metadata": {},
     "output_type": "execute_result"
    }
   ],
   "source": [
    "gun_death_by_place = count_category(9)\n",
    "gun_death_by_place"
   ]
  },
  {
   "cell_type": "markdown",
   "metadata": {},
   "source": [
    "There seems to be a lot of gun deaths happening at home. we can further explore the intents behind these deaths\n"
   ]
  },
  {
   "cell_type": "code",
   "execution_count": 32,
   "metadata": {},
   "outputs": [],
   "source": [
    "def group_by(column1, column2, value):\n",
    "    \n",
    "    list_column_1 = [row[column1] for row in data]\n",
    "    list_column_2 = [row[column2] for row in data]\n",
    "    return_dictionary = {}\n",
    "    for i, k in enumerate(list_column_1):\n",
    "        if k not in return_dictionary:\n",
    "            return_dictionary[k] = 0\n",
    "        if list_column_2[i] == value:\n",
    "            return_dictionary[k] += 1\n",
    "    \n",
    "    if column1 == 7:\n",
    "        race_per_hundredk = {}\n",
    "        for i in list_column_1:\n",
    "            race_per_hundredk[i] = return_dictionary[i] / mapping[i] * 100000 / 1\n",
    "        return(race_per_hundredk)\n",
    "    \n",
    "    return return_dictionary"
   ]
  },
  {
   "cell_type": "code",
   "execution_count": 33,
   "metadata": {},
   "outputs": [
    {
     "data": {
      "text/plain": [
       "{'Asian/Pacific Islander': 4.698707684869043,\n",
       " 'Black': 8.278130270491385,\n",
       " 'Hispanic': 7.106980451097149,\n",
       " 'Native American/Native Alaskan': 14.841532544673013,\n",
       " 'White': 28.06217969245692}"
      ]
     },
     "execution_count": 33,
     "metadata": {},
     "output_type": "execute_result"
    }
   ],
   "source": [
    "suicide_by_race = group_by(7,3,\"Suicide\")\n",
    "suicide_by_race"
   ]
  },
  {
   "cell_type": "code",
   "execution_count": 34,
   "metadata": {},
   "outputs": [
    {
     "data": {
      "text/plain": [
       "{'Farm': 76,\n",
       " 'Home': 13613,\n",
       " 'Industrial/construction': 85,\n",
       " 'NA': 1383,\n",
       " 'Other specified': 5429,\n",
       " 'Other unspecified': 3604,\n",
       " 'Residential institution': 73,\n",
       " 'School/instiution': 361,\n",
       " 'Sports': 22,\n",
       " 'Street': 8867,\n",
       " 'Trade/service area': 1663}"
      ]
     },
     "execution_count": 34,
     "metadata": {},
     "output_type": "execute_result"
    }
   ],
   "source": [
    "homicide_place = group_by(9,3, 'Homicide')\n",
    "homicide_place"
   ]
  },
  {
   "cell_type": "code",
   "execution_count": 35,
   "metadata": {
    "scrolled": true
   },
   "outputs": [
    {
     "data": {
      "text/plain": [
       "{'Farm': 378,\n",
       " 'Home': 45414,\n",
       " 'Industrial/construction': 155,\n",
       " 'NA': 0,\n",
       " 'Other specified': 8031,\n",
       " 'Other unspecified': 4774,\n",
       " 'Residential institution': 125,\n",
       " 'School/instiution': 295,\n",
       " 'Sports': 98,\n",
       " 'Street': 2181,\n",
       " 'Trade/service area': 1723}"
      ]
     },
     "execution_count": 35,
     "metadata": {},
     "output_type": "execute_result"
    }
   ],
   "source": [
    "suicide_place = group_by(9,3,'Suicide')\n",
    "suicide_place"
   ]
  },
  {
   "cell_type": "markdown",
   "metadata": {},
   "source": [
    "Majority of gun deaths in homes, farms,residential institutions have been suicides\n"
   ]
  },
  {
   "cell_type": "code",
   "execution_count": 36,
   "metadata": {},
   "outputs": [
    {
     "data": {
      "text/plain": [
       "{'Asian/Pacific Islander': 3.530346230970155,\n",
       " 'Black': 48.471284987180944,\n",
       " 'Hispanic': 12.627161104219914,\n",
       " 'Native American/Native Alaskan': 8.717729026240365,\n",
       " 'White': 4.6356417981453335}"
      ]
     },
     "execution_count": 36,
     "metadata": {},
     "output_type": "execute_result"
    }
   ],
   "source": [
    "homicide_race = group_by(7,3,'Homicide')\n",
    "homicide_race"
   ]
  }
 ],
 "metadata": {
  "kernelspec": {
   "display_name": "Python 3",
   "language": "python",
   "name": "python3"
  },
  "language_info": {
   "codemirror_mode": {
    "name": "ipython",
    "version": 3
   },
   "file_extension": ".py",
   "mimetype": "text/x-python",
   "name": "python",
   "nbconvert_exporter": "python",
   "pygments_lexer": "ipython3",
   "version": "3.6.4"
  }
 },
 "nbformat": 4,
 "nbformat_minor": 1
}
